{
  "cells": [
    {
      "cell_type": "code",
      "source": [
        "# !pip install imbalanced-learn\n",
        "!pip install -U skorch\n",
        "!pip install optuna"
      ],
      "metadata": {
        "id": "gm3OXgZlhRCt",
        "colab": {
          "base_uri": "https://localhost:8080/"
        },
        "outputId": "3fb285ab-7d3b-44df-f90c-303445225bf5"
      },
      "execution_count": null,
      "outputs": [
        {
          "output_type": "stream",
          "name": "stdout",
          "text": [
            "Collecting skorch\n",
            "  Downloading skorch-1.0.0-py3-none-any.whl.metadata (11 kB)\n",
            "Requirement already satisfied: numpy>=1.13.3 in /usr/local/lib/python3.10/dist-packages (from skorch) (1.26.4)\n",
            "Requirement already satisfied: scikit-learn>=0.22.0 in /usr/local/lib/python3.10/dist-packages (from skorch) (1.5.2)\n",
            "Requirement already satisfied: scipy>=1.1.0 in /usr/local/lib/python3.10/dist-packages (from skorch) (1.13.1)\n",
            "Requirement already satisfied: tabulate>=0.7.7 in /usr/local/lib/python3.10/dist-packages (from skorch) (0.9.0)\n",
            "Requirement already satisfied: tqdm>=4.14.0 in /usr/local/lib/python3.10/dist-packages (from skorch) (4.66.6)\n",
            "Requirement already satisfied: joblib>=1.2.0 in /usr/local/lib/python3.10/dist-packages (from scikit-learn>=0.22.0->skorch) (1.4.2)\n",
            "Requirement already satisfied: threadpoolctl>=3.1.0 in /usr/local/lib/python3.10/dist-packages (from scikit-learn>=0.22.0->skorch) (3.5.0)\n",
            "Downloading skorch-1.0.0-py3-none-any.whl (239 kB)\n",
            "\u001b[?25l   \u001b[90m━━━━━━━━━━━━━━━━━━━━━━━━━━━━━━━━━━━━━━━━\u001b[0m \u001b[32m0.0/239.4 kB\u001b[0m \u001b[31m?\u001b[0m eta \u001b[36m-:--:--\u001b[0m\r\u001b[2K   \u001b[90m━━━━━━━━━━━━━━━━━━━━━━━━━━━━━━━━━━━━━━━━\u001b[0m \u001b[32m239.4/239.4 kB\u001b[0m \u001b[31m12.6 MB/s\u001b[0m eta \u001b[36m0:00:00\u001b[0m\n",
            "\u001b[?25hInstalling collected packages: skorch\n",
            "Successfully installed skorch-1.0.0\n",
            "Collecting optuna\n",
            "  Downloading optuna-4.1.0-py3-none-any.whl.metadata (16 kB)\n",
            "Collecting alembic>=1.5.0 (from optuna)\n",
            "  Downloading alembic-1.14.0-py3-none-any.whl.metadata (7.4 kB)\n",
            "Collecting colorlog (from optuna)\n",
            "  Downloading colorlog-6.9.0-py3-none-any.whl.metadata (10 kB)\n",
            "Requirement already satisfied: numpy in /usr/local/lib/python3.10/dist-packages (from optuna) (1.26.4)\n",
            "Requirement already satisfied: packaging>=20.0 in /usr/local/lib/python3.10/dist-packages (from optuna) (24.2)\n",
            "Requirement already satisfied: sqlalchemy>=1.4.2 in /usr/local/lib/python3.10/dist-packages (from optuna) (2.0.36)\n",
            "Requirement already satisfied: tqdm in /usr/local/lib/python3.10/dist-packages (from optuna) (4.66.6)\n",
            "Requirement already satisfied: PyYAML in /usr/local/lib/python3.10/dist-packages (from optuna) (6.0.2)\n",
            "Collecting Mako (from alembic>=1.5.0->optuna)\n",
            "  Downloading Mako-1.3.8-py3-none-any.whl.metadata (2.9 kB)\n",
            "Requirement already satisfied: typing-extensions>=4 in /usr/local/lib/python3.10/dist-packages (from alembic>=1.5.0->optuna) (4.12.2)\n",
            "Requirement already satisfied: greenlet!=0.4.17 in /usr/local/lib/python3.10/dist-packages (from sqlalchemy>=1.4.2->optuna) (3.1.1)\n",
            "Requirement already satisfied: MarkupSafe>=0.9.2 in /usr/local/lib/python3.10/dist-packages (from Mako->alembic>=1.5.0->optuna) (3.0.2)\n",
            "Downloading optuna-4.1.0-py3-none-any.whl (364 kB)\n",
            "\u001b[2K   \u001b[90m━━━━━━━━━━━━━━━━━━━━━━━━━━━━━━━━━━━━━━━━\u001b[0m \u001b[32m364.4/364.4 kB\u001b[0m \u001b[31m19.5 MB/s\u001b[0m eta \u001b[36m0:00:00\u001b[0m\n",
            "\u001b[?25hDownloading alembic-1.14.0-py3-none-any.whl (233 kB)\n",
            "\u001b[2K   \u001b[90m━━━━━━━━━━━━━━━━━━━━━━━━━━━━━━━━━━━━━━━━\u001b[0m \u001b[32m233.5/233.5 kB\u001b[0m \u001b[31m25.2 MB/s\u001b[0m eta \u001b[36m0:00:00\u001b[0m\n",
            "\u001b[?25hDownloading colorlog-6.9.0-py3-none-any.whl (11 kB)\n",
            "Downloading Mako-1.3.8-py3-none-any.whl (78 kB)\n",
            "\u001b[2K   \u001b[90m━━━━━━━━━━━━━━━━━━━━━━━━━━━━━━━━━━━━━━━━\u001b[0m \u001b[32m78.6/78.6 kB\u001b[0m \u001b[31m7.8 MB/s\u001b[0m eta \u001b[36m0:00:00\u001b[0m\n",
            "\u001b[?25hInstalling collected packages: Mako, colorlog, alembic, optuna\n",
            "Successfully installed Mako-1.3.8 alembic-1.14.0 colorlog-6.9.0 optuna-4.1.0\n"
          ]
        }
      ]
    },
    {
      "cell_type": "code",
      "source": [
        "# Import libraries\n",
        "import numpy as np\n",
        "import pandas as pd\n",
        "import torch\n",
        "from torch import nn\n",
        "import skorch\n",
        "from skorch import NeuralNetClassifier\n",
        "from sklearn.metrics import classification_report\n",
        "from skorch.callbacks import EarlyStopping\n",
        "from skorch.helper import predefined_split\n",
        "import optuna\n",
        "from sklearn.metrics import f1_score\n",
        "\n",
        "from google.colab import drive\n",
        "drive.mount('/content/drive')"
      ],
      "metadata": {
        "id": "2XYncjW_hU0e",
        "colab": {
          "base_uri": "https://localhost:8080/"
        },
        "outputId": "49ab881f-faea-4130-9b3a-589c80caaab9"
      },
      "execution_count": null,
      "outputs": [
        {
          "output_type": "stream",
          "name": "stdout",
          "text": [
            "Mounted at /content/drive\n"
          ]
        }
      ]
    },
    {
      "cell_type": "code",
      "source": [
        "# Used to split the dataset into train, validation, and test sets based on time\n",
        "def assign_group(time):\n",
        "    \"\"\"\n",
        "    Assigns a group label ('train', 'val', or 'test') based on a timestamp.\n",
        "\n",
        "    Parameters:\n",
        "        time (pd.Timestamp): A timestamp to evaluate.\n",
        "\n",
        "    Returns:\n",
        "        str: Group label ('train', 'val', or 'test').\n",
        "    \"\"\"\n",
        "    if time < pd.Timestamp('2023-01-01'):\n",
        "        return 'train'\n",
        "    elif pd.Timestamp('2023-01-01') <= time < pd.Timestamp('2023-09-01'):\n",
        "        return 'val'\n",
        "    else:\n",
        "        return 'test'\n",
        "\n",
        "# Preprocess data\n",
        "def data_preprocess(df, locations):\n",
        "    \"\"\"\n",
        "    Prepares and preprocesses a DataFrame by filtering locations, computing velocity\n",
        "    and acceleration, assigning groups, and removing NaN values.\n",
        "\n",
        "    Parameters:\n",
        "        df (pd.DataFrame): The input data containing 'Time', 'Location', and 'Temperature'.\n",
        "        locations (list): List of locations to include in the processing.\n",
        "\n",
        "    Returns:\n",
        "        pd.DataFrame: A DataFrame with 'Time', 'Location', 'group', 'Temperature',\n",
        "                      'Velocity', and 'Acceleration' columns.\n",
        "    \"\"\"\n",
        "    df['Time'] = pd.to_datetime(df['Time'])\n",
        "    df = df[df['Location'].isin(locations)]\n",
        "\n",
        "    # Sort the DataFrame by 'Location' and 'Time'\n",
        "    df = df.sort_values(by=['Location', 'Time']).reset_index(drop=True)\n",
        "\n",
        "    # Compute Velocity and Acceleration\n",
        "    df['Velocity'] = df.groupby('Location')['Temperature'].diff() / (15 * 60)\n",
        "    df['Acceleration'] = df.groupby('Location')['Velocity'].diff() / (15 * 60)\n",
        "\n",
        "    # Assign groups (train, val, test)\n",
        "    df['group'] = df['Time'].apply(assign_group)\n",
        "\n",
        "    # Drop rows with NaN values in Velocity or Acceleration\n",
        "    df = df.dropna(subset=['Velocity', 'Acceleration']).reset_index(drop=True)\n",
        "\n",
        "    return df[['Time', 'Location', 'group', 'Temperature', 'Velocity', 'Acceleration']]\n",
        "\n",
        "# Create Rolling Windows\n",
        "def create_rolling_windows(arr, window_size=16, horizon=8):\n",
        "    \"\"\"\n",
        "    Creates rolling windows of features and corresponding targets for time-series data.\n",
        "\n",
        "    Parameters:\n",
        "        arr (np.ndarray): Input array of shape (n_samples, n_features).\n",
        "        window_size (int): Number of consecutive timesteps in a window (default=16).\n",
        "        horizon (int): horizon between the end of the window and the target value (default=8).\n",
        "\n",
        "    Returns:\n",
        "        tuple: Two numpy arrays:\n",
        "               - X: Features of shape (n_windows, window_size, n_features)\n",
        "               - y: Target values of shape (n_windows,)\n",
        "    \"\"\"\n",
        "    X, y = [], []\n",
        "    for i in range(len(arr) - window_size - horizon):\n",
        "        X.append(arr[i:i + window_size])  # Features\n",
        "        y.append(arr[i + window_size + horizon, 0])  # Target\n",
        "    return np.array(X), np.array(y)\n",
        "\n",
        "def create_feature_matrix(df, window_size=16, horizon=8):\n",
        "    \"\"\"\n",
        "    Creates a feature matrix and target vector using rolling windows for time-series data.\n",
        "\n",
        "    Parameters:\n",
        "        df (pd.DataFrame): DataFrame containing 'Temperature', 'Velocity', and 'Acceleration'.\n",
        "        window_size (int): Number of consecutive timesteps in a window (default=16).\n",
        "        horizon (int): horizon between the end of the window and the target value (default=8).\n",
        "\n",
        "    Returns:\n",
        "        tuple: Two numpy arrays:\n",
        "               - X: Features of shape (n_windows, window_size, n_features)\n",
        "               - y: Target values of shape (n_windows,)\n",
        "    \"\"\"\n",
        "    # Order matters: Temperature, Velocity, Acceleration.\n",
        "    feature_matrix = np.column_stack((df['Temperature'].values,\n",
        "                                      df['Velocity'].values,\n",
        "                                      df['Acceleration'].values))\n",
        "    X_matrix, y_vector = create_rolling_windows(feature_matrix, window_size, horizon)\n",
        "    return X_matrix, y_vector\n",
        "\n",
        "def prepare_datasets(df, Config):\n",
        "    \"\"\"\n",
        "    Prepares training datasets by creating rolling windows for multiple locations.\n",
        "\n",
        "    Parameters:\n",
        "        df (pd.DataFrame): The input data.\n",
        "        locations (list): List of locations to process.\n",
        "        window_size (int): Number of consecutive timesteps in a window (default=16).\n",
        "        horizon (int): horizon between the end of the window and the target value (default=8).\n",
        "\n",
        "    Returns:\n",
        "        tuple: Two numpy arrays:\n",
        "               - X_all: Combined feature arrays of shape (total_windows, window_size, n_features).\n",
        "               - y_all: Combined target arrays of shape (total_windows,).\n",
        "    \"\"\"\n",
        "\n",
        "    X_all, y_all = [], []\n",
        "    locations = Config.locations\n",
        "    window_size = Config.window_size\n",
        "    horizon = Config.horizon\n",
        "\n",
        "    for location in locations:\n",
        "        dff = df[df['Location'] == location]\n",
        "        X, y = create_feature_matrix(dff, window_size, horizon)\n",
        "        if len(X) > 0 and len(y) > 0:\n",
        "            X_all.append(X)\n",
        "            y_all.append(y)\n",
        "\n",
        "    X_all = np.concatenate(X_all, axis=0)\n",
        "    y_all = np.concatenate(y_all, axis=0)\n",
        "\n",
        "    return X_all, y_all\n",
        "\n",
        "def add_augmented_data(X, y):\n",
        "    \"\"\"\n",
        "    Augments the dataset by duplicating and slightly modifying samples\n",
        "    where the target value is 1.0 to address class imbalance.\n",
        "\n",
        "    Parameters:\n",
        "        X (np.ndarray): Feature array of shape (n_samples, window_size, n_features).\n",
        "        y (np.ndarray): Target array of shape (n_samples,).\n",
        "\n",
        "    Returns:\n",
        "        tuple: Augmented feature array and target array.\n",
        "    \"\"\"\n",
        "    duplicates_idx = np.where(y == 1.0)[0]  # Find indices where target is 1.0\n",
        "    X_copy, y_copy = np.copy(X), np.copy(y)\n",
        "    while True:\n",
        "        # Add random noise to duplicate samples\n",
        "        X_duplicated = X_copy[duplicates_idx] + 0.01 * np.random.randn(*X[duplicates_idx].shape)\n",
        "        y_duplicated = y_copy[duplicates_idx]\n",
        "        X = np.concatenate([X, X_duplicated], axis=0)\n",
        "        y = np.concatenate([y, y_duplicated], axis=0)\n",
        "\n",
        "        # Stop augmenting if the target ratio exceeds 4%\n",
        "        if np.mean(y) > 0.04:\n",
        "            print(f\"Augmentation completed. {np.mean(y) * 100:.2f}% of train data is 1.0\")\n",
        "            break\n",
        "    return X, y\n",
        "\n",
        "# Define Model\n",
        "class GRUNet(nn.Module):\n",
        "    \"\"\"\n",
        "    A Gated Recurrent Unit (GRU) neural network for time-series forecasting.\n",
        "\n",
        "    Parameters:\n",
        "        hidden_size (int): Number of hidden units in each GRU layer (default=16).\n",
        "        num_layers (int): Number of GRU layers (default=2)\n",
        "    \"\"\"\n",
        "    def __init__(self, hidden_size=16, num_layers=2, dropout=0.5):\n",
        "        super(GRUNet, self).__init__()\n",
        "        self.hidden_size = hidden_size\n",
        "        self.num_layers = num_layers\n",
        "        self.gru = nn.GRU(3, hidden_size, num_layers, batch_first=True,\n",
        "                          dropout=dropout if num_layers > 1 else 0.0)\n",
        "        self.dropout = nn.Dropout(dropout)\n",
        "        self.fc = nn.Linear(hidden_size, 1)\n",
        "\n",
        "    def forward(self, x):\n",
        "        \"\"\"\n",
        "        Forward pass of the GRU network.\n",
        "\n",
        "        Parameters:\n",
        "            x (torch.Tensor): Input tensor of shape (batch_size, sequence_length, input_size).\n",
        "\n",
        "        Returns:\n",
        "            torch.Tensor: Output tensor of shape (batch_size, output_size).\n",
        "        \"\"\"\n",
        "        out, _ = self.gru(x)\n",
        "        out = self.dropout(out[:, -1, :])\n",
        "        out = self.fc(out)\n",
        "        return out\n"
      ],
      "metadata": {
        "id": "Y40EvxaqMEtO"
      },
      "execution_count": null,
      "outputs": []
    },
    {
      "cell_type": "code",
      "source": [
        "class Config:\n",
        "    \"\"\"\n",
        "    Static configuration class to store imporant parameters.\n",
        "    \"\"\"\n",
        "    window_size = 16\n",
        "    horizon = 8\n",
        "    threshold = 85.0\n",
        "    batch_size = 64\n",
        "    # air-conditioned cooling system\n",
        "    locations = ['C76', 'C80', 'E20', 'E30', 'E39', 'L18', 'L20', 'S44']\n",
        "    # forced cooling system\n",
        "    # locations = [\"A20\", \"A30\", \"A40\", \"A60\", \"A70\", \"A80\",\n",
        "    #              \"K20\", \"K30\", \"M10\", \"M50\", \"M90\", \"R10\",\n",
        "    #              \"R20\", \"R30\", \"R40\", \"R50\", \"W10\"]"
      ],
      "metadata": {
        "id": "nQTBQvZMNOnC"
      },
      "execution_count": null,
      "outputs": []
    },
    {
      "cell_type": "code",
      "source": [
        "# Load dataset\n",
        "# dataframe should have ['Time', 'Location', 'Temperature', 'forced_constant_ventilation_cooling'(optional)] columns\n",
        "df = pd.read_csv('/content/drive/MyDrive/BART/data/cleaned_data_v3.csv')\n",
        "df.head()"
      ],
      "metadata": {
        "id": "5vhu6MSKRh4j",
        "colab": {
          "base_uri": "https://localhost:8080/",
          "height": 206
        },
        "outputId": "812d1320-5ae2-4021-dfaa-4e9f2b22faf0"
      },
      "execution_count": null,
      "outputs": [
        {
          "output_type": "execute_result",
          "data": {
            "text/plain": [
              "                  Time Location  Temperature  \\\n",
              "0  2020-12-31 23:50:01      A20         59.9   \n",
              "1  2020-12-31 23:35:01      A20         59.6   \n",
              "2  2020-12-31 23:20:01      A20         60.3   \n",
              "3  2020-12-31 23:05:01      A20         60.6   \n",
              "4  2020-12-31 22:50:01      A20         60.4   \n",
              "\n",
              "   forced_constant_ventilation_cooling  \n",
              "0                                    1  \n",
              "1                                    1  \n",
              "2                                    1  \n",
              "3                                    1  \n",
              "4                                    1  "
            ],
            "text/html": [
              "\n",
              "  <div id=\"df-926c660b-ba7a-44b8-bbce-ea27709b1efc\" class=\"colab-df-container\">\n",
              "    <div>\n",
              "<style scoped>\n",
              "    .dataframe tbody tr th:only-of-type {\n",
              "        vertical-align: middle;\n",
              "    }\n",
              "\n",
              "    .dataframe tbody tr th {\n",
              "        vertical-align: top;\n",
              "    }\n",
              "\n",
              "    .dataframe thead th {\n",
              "        text-align: right;\n",
              "    }\n",
              "</style>\n",
              "<table border=\"1\" class=\"dataframe\">\n",
              "  <thead>\n",
              "    <tr style=\"text-align: right;\">\n",
              "      <th></th>\n",
              "      <th>Time</th>\n",
              "      <th>Location</th>\n",
              "      <th>Temperature</th>\n",
              "      <th>forced_constant_ventilation_cooling</th>\n",
              "    </tr>\n",
              "  </thead>\n",
              "  <tbody>\n",
              "    <tr>\n",
              "      <th>0</th>\n",
              "      <td>2020-12-31 23:50:01</td>\n",
              "      <td>A20</td>\n",
              "      <td>59.9</td>\n",
              "      <td>1</td>\n",
              "    </tr>\n",
              "    <tr>\n",
              "      <th>1</th>\n",
              "      <td>2020-12-31 23:35:01</td>\n",
              "      <td>A20</td>\n",
              "      <td>59.6</td>\n",
              "      <td>1</td>\n",
              "    </tr>\n",
              "    <tr>\n",
              "      <th>2</th>\n",
              "      <td>2020-12-31 23:20:01</td>\n",
              "      <td>A20</td>\n",
              "      <td>60.3</td>\n",
              "      <td>1</td>\n",
              "    </tr>\n",
              "    <tr>\n",
              "      <th>3</th>\n",
              "      <td>2020-12-31 23:05:01</td>\n",
              "      <td>A20</td>\n",
              "      <td>60.6</td>\n",
              "      <td>1</td>\n",
              "    </tr>\n",
              "    <tr>\n",
              "      <th>4</th>\n",
              "      <td>2020-12-31 22:50:01</td>\n",
              "      <td>A20</td>\n",
              "      <td>60.4</td>\n",
              "      <td>1</td>\n",
              "    </tr>\n",
              "  </tbody>\n",
              "</table>\n",
              "</div>\n",
              "    <div class=\"colab-df-buttons\">\n",
              "\n",
              "  <div class=\"colab-df-container\">\n",
              "    <button class=\"colab-df-convert\" onclick=\"convertToInteractive('df-926c660b-ba7a-44b8-bbce-ea27709b1efc')\"\n",
              "            title=\"Convert this dataframe to an interactive table.\"\n",
              "            style=\"display:none;\">\n",
              "\n",
              "  <svg xmlns=\"http://www.w3.org/2000/svg\" height=\"24px\" viewBox=\"0 -960 960 960\">\n",
              "    <path d=\"M120-120v-720h720v720H120Zm60-500h600v-160H180v160Zm220 220h160v-160H400v160Zm0 220h160v-160H400v160ZM180-400h160v-160H180v160Zm440 0h160v-160H620v160ZM180-180h160v-160H180v160Zm440 0h160v-160H620v160Z\"/>\n",
              "  </svg>\n",
              "    </button>\n",
              "\n",
              "  <style>\n",
              "    .colab-df-container {\n",
              "      display:flex;\n",
              "      gap: 12px;\n",
              "    }\n",
              "\n",
              "    .colab-df-convert {\n",
              "      background-color: #E8F0FE;\n",
              "      border: none;\n",
              "      border-radius: 50%;\n",
              "      cursor: pointer;\n",
              "      display: none;\n",
              "      fill: #1967D2;\n",
              "      height: 32px;\n",
              "      padding: 0 0 0 0;\n",
              "      width: 32px;\n",
              "    }\n",
              "\n",
              "    .colab-df-convert:hover {\n",
              "      background-color: #E2EBFA;\n",
              "      box-shadow: 0px 1px 2px rgba(60, 64, 67, 0.3), 0px 1px 3px 1px rgba(60, 64, 67, 0.15);\n",
              "      fill: #174EA6;\n",
              "    }\n",
              "\n",
              "    .colab-df-buttons div {\n",
              "      margin-bottom: 4px;\n",
              "    }\n",
              "\n",
              "    [theme=dark] .colab-df-convert {\n",
              "      background-color: #3B4455;\n",
              "      fill: #D2E3FC;\n",
              "    }\n",
              "\n",
              "    [theme=dark] .colab-df-convert:hover {\n",
              "      background-color: #434B5C;\n",
              "      box-shadow: 0px 1px 3px 1px rgba(0, 0, 0, 0.15);\n",
              "      filter: drop-shadow(0px 1px 2px rgba(0, 0, 0, 0.3));\n",
              "      fill: #FFFFFF;\n",
              "    }\n",
              "  </style>\n",
              "\n",
              "    <script>\n",
              "      const buttonEl =\n",
              "        document.querySelector('#df-926c660b-ba7a-44b8-bbce-ea27709b1efc button.colab-df-convert');\n",
              "      buttonEl.style.display =\n",
              "        google.colab.kernel.accessAllowed ? 'block' : 'none';\n",
              "\n",
              "      async function convertToInteractive(key) {\n",
              "        const element = document.querySelector('#df-926c660b-ba7a-44b8-bbce-ea27709b1efc');\n",
              "        const dataTable =\n",
              "          await google.colab.kernel.invokeFunction('convertToInteractive',\n",
              "                                                    [key], {});\n",
              "        if (!dataTable) return;\n",
              "\n",
              "        const docLinkHtml = 'Like what you see? Visit the ' +\n",
              "          '<a target=\"_blank\" href=https://colab.research.google.com/notebooks/data_table.ipynb>data table notebook</a>'\n",
              "          + ' to learn more about interactive tables.';\n",
              "        element.innerHTML = '';\n",
              "        dataTable['output_type'] = 'display_data';\n",
              "        await google.colab.output.renderOutput(dataTable, element);\n",
              "        const docLink = document.createElement('div');\n",
              "        docLink.innerHTML = docLinkHtml;\n",
              "        element.appendChild(docLink);\n",
              "      }\n",
              "    </script>\n",
              "  </div>\n",
              "\n",
              "\n",
              "<div id=\"df-5dc86211-f4cb-40dd-a60a-665e363190da\">\n",
              "  <button class=\"colab-df-quickchart\" onclick=\"quickchart('df-5dc86211-f4cb-40dd-a60a-665e363190da')\"\n",
              "            title=\"Suggest charts\"\n",
              "            style=\"display:none;\">\n",
              "\n",
              "<svg xmlns=\"http://www.w3.org/2000/svg\" height=\"24px\"viewBox=\"0 0 24 24\"\n",
              "     width=\"24px\">\n",
              "    <g>\n",
              "        <path d=\"M19 3H5c-1.1 0-2 .9-2 2v14c0 1.1.9 2 2 2h14c1.1 0 2-.9 2-2V5c0-1.1-.9-2-2-2zM9 17H7v-7h2v7zm4 0h-2V7h2v10zm4 0h-2v-4h2v4z\"/>\n",
              "    </g>\n",
              "</svg>\n",
              "  </button>\n",
              "\n",
              "<style>\n",
              "  .colab-df-quickchart {\n",
              "      --bg-color: #E8F0FE;\n",
              "      --fill-color: #1967D2;\n",
              "      --hover-bg-color: #E2EBFA;\n",
              "      --hover-fill-color: #174EA6;\n",
              "      --disabled-fill-color: #AAA;\n",
              "      --disabled-bg-color: #DDD;\n",
              "  }\n",
              "\n",
              "  [theme=dark] .colab-df-quickchart {\n",
              "      --bg-color: #3B4455;\n",
              "      --fill-color: #D2E3FC;\n",
              "      --hover-bg-color: #434B5C;\n",
              "      --hover-fill-color: #FFFFFF;\n",
              "      --disabled-bg-color: #3B4455;\n",
              "      --disabled-fill-color: #666;\n",
              "  }\n",
              "\n",
              "  .colab-df-quickchart {\n",
              "    background-color: var(--bg-color);\n",
              "    border: none;\n",
              "    border-radius: 50%;\n",
              "    cursor: pointer;\n",
              "    display: none;\n",
              "    fill: var(--fill-color);\n",
              "    height: 32px;\n",
              "    padding: 0;\n",
              "    width: 32px;\n",
              "  }\n",
              "\n",
              "  .colab-df-quickchart:hover {\n",
              "    background-color: var(--hover-bg-color);\n",
              "    box-shadow: 0 1px 2px rgba(60, 64, 67, 0.3), 0 1px 3px 1px rgba(60, 64, 67, 0.15);\n",
              "    fill: var(--button-hover-fill-color);\n",
              "  }\n",
              "\n",
              "  .colab-df-quickchart-complete:disabled,\n",
              "  .colab-df-quickchart-complete:disabled:hover {\n",
              "    background-color: var(--disabled-bg-color);\n",
              "    fill: var(--disabled-fill-color);\n",
              "    box-shadow: none;\n",
              "  }\n",
              "\n",
              "  .colab-df-spinner {\n",
              "    border: 2px solid var(--fill-color);\n",
              "    border-color: transparent;\n",
              "    border-bottom-color: var(--fill-color);\n",
              "    animation:\n",
              "      spin 1s steps(1) infinite;\n",
              "  }\n",
              "\n",
              "  @keyframes spin {\n",
              "    0% {\n",
              "      border-color: transparent;\n",
              "      border-bottom-color: var(--fill-color);\n",
              "      border-left-color: var(--fill-color);\n",
              "    }\n",
              "    20% {\n",
              "      border-color: transparent;\n",
              "      border-left-color: var(--fill-color);\n",
              "      border-top-color: var(--fill-color);\n",
              "    }\n",
              "    30% {\n",
              "      border-color: transparent;\n",
              "      border-left-color: var(--fill-color);\n",
              "      border-top-color: var(--fill-color);\n",
              "      border-right-color: var(--fill-color);\n",
              "    }\n",
              "    40% {\n",
              "      border-color: transparent;\n",
              "      border-right-color: var(--fill-color);\n",
              "      border-top-color: var(--fill-color);\n",
              "    }\n",
              "    60% {\n",
              "      border-color: transparent;\n",
              "      border-right-color: var(--fill-color);\n",
              "    }\n",
              "    80% {\n",
              "      border-color: transparent;\n",
              "      border-right-color: var(--fill-color);\n",
              "      border-bottom-color: var(--fill-color);\n",
              "    }\n",
              "    90% {\n",
              "      border-color: transparent;\n",
              "      border-bottom-color: var(--fill-color);\n",
              "    }\n",
              "  }\n",
              "</style>\n",
              "\n",
              "  <script>\n",
              "    async function quickchart(key) {\n",
              "      const quickchartButtonEl =\n",
              "        document.querySelector('#' + key + ' button');\n",
              "      quickchartButtonEl.disabled = true;  // To prevent multiple clicks.\n",
              "      quickchartButtonEl.classList.add('colab-df-spinner');\n",
              "      try {\n",
              "        const charts = await google.colab.kernel.invokeFunction(\n",
              "            'suggestCharts', [key], {});\n",
              "      } catch (error) {\n",
              "        console.error('Error during call to suggestCharts:', error);\n",
              "      }\n",
              "      quickchartButtonEl.classList.remove('colab-df-spinner');\n",
              "      quickchartButtonEl.classList.add('colab-df-quickchart-complete');\n",
              "    }\n",
              "    (() => {\n",
              "      let quickchartButtonEl =\n",
              "        document.querySelector('#df-5dc86211-f4cb-40dd-a60a-665e363190da button');\n",
              "      quickchartButtonEl.style.display =\n",
              "        google.colab.kernel.accessAllowed ? 'block' : 'none';\n",
              "    })();\n",
              "  </script>\n",
              "</div>\n",
              "\n",
              "    </div>\n",
              "  </div>\n"
            ],
            "application/vnd.google.colaboratory.intrinsic+json": {
              "type": "dataframe",
              "variable_name": "df"
            }
          },
          "metadata": {},
          "execution_count": 5
        }
      ]
    },
    {
      "cell_type": "code",
      "source": [
        "df.info()"
      ],
      "metadata": {
        "id": "UaBQeUywgC50",
        "outputId": "986e7565-605a-47f0-bd3f-4f12fdf7ace9",
        "colab": {
          "base_uri": "https://localhost:8080/"
        }
      },
      "execution_count": null,
      "outputs": [
        {
          "output_type": "stream",
          "name": "stdout",
          "text": [
            "<class 'pandas.core.frame.DataFrame'>\n",
            "RangeIndex: 6175997 entries, 0 to 6175996\n",
            "Data columns (total 4 columns):\n",
            " #   Column                               Dtype  \n",
            "---  ------                               -----  \n",
            " 0   Time                                 object \n",
            " 1   Location                             object \n",
            " 2   Temperature                          float64\n",
            " 3   forced_constant_ventilation_cooling  int64  \n",
            "dtypes: float64(1), int64(1), object(2)\n",
            "memory usage: 188.5+ MB\n"
          ]
        }
      ]
    },
    {
      "cell_type": "code",
      "source": [
        "df.shape"
      ],
      "metadata": {
        "id": "F-DroWsQgFhY",
        "outputId": "d8624fdf-f3a9-447c-cc5d-afbc2ca45096",
        "colab": {
          "base_uri": "https://localhost:8080/"
        }
      },
      "execution_count": null,
      "outputs": [
        {
          "output_type": "execute_result",
          "data": {
            "text/plain": [
              "(6175997, 4)"
            ]
          },
          "metadata": {},
          "execution_count": 7
        }
      ]
    },
    {
      "cell_type": "code",
      "source": [
        "# preprocess\n",
        "# data_preprocess return ['Time', 'Location', 'group', 'Temperature', 'Velocity', 'Acceleration'] columns\n",
        "df = data_preprocess(df, Config.locations)\n",
        "\n",
        "# split dataframe into train/val/test\n",
        "train_df = df[df['group'] == 'train']\n",
        "val_df = df[df['group'] == 'val']\n",
        "test_df = df[df['group'] == 'test']\n",
        "\n",
        "# transform dataframe into X, y matrix, shape is (total_windows, window_size, n_features)\n",
        "X_train, y_train = prepare_datasets(train_df, Config)\n",
        "X_val, y_val = prepare_datasets(val_df, Config)\n",
        "X_test, y_test = prepare_datasets(test_df, Config)\n",
        "\n",
        "# standardize train, val, test\n",
        "train_mean = np.mean(X_train, axis=(0, 1))\n",
        "train_std = np.std(X_train, axis=(0, 1))\n",
        "X_train  = (X_train - train_mean) / train_std\n",
        "X_val  = (X_val - train_mean) / train_std\n",
        "X_test  = (X_test - train_mean) / train_std\n",
        "\n",
        "# change overheat into 1.0 else 0.0\n",
        "y_train = (y_train > Config.threshold).astype(float)\n",
        "y_val = (y_val > Config.threshold).astype(float)\n",
        "y_test = (y_test > Config.threshold).astype(float)\n",
        "\n",
        "# add augmented data to x_train, y_train here\n",
        "X_train, y_train = add_augmented_data(X_train, y_train)\n",
        "\n",
        "# skorch expect float32 as datatype of numpy/torch array so make sure data type is float 32\n",
        "X_train, y_train = X_train.astype(np.float32), y_train.astype(np.float32).reshape(-1, 1)\n",
        "X_val, y_val = X_val.astype(np.float32), y_val.astype(np.float32).reshape(-1, 1)\n",
        "X_test, y_test = X_test.astype(np.float32), y_test.astype(np.float32).reshape(-1, 1)\n",
        "\n",
        "# pre-defined validation set\n",
        "valid_ds = skorch.dataset.Dataset(X_val, y_val)"
      ],
      "metadata": {
        "id": "-Li6B7iOhOW8",
        "colab": {
          "base_uri": "https://localhost:8080/"
        },
        "outputId": "ec7e920f-052f-48d7-9df2-547a97e69e6f"
      },
      "execution_count": null,
      "outputs": [
        {
          "output_type": "stream",
          "name": "stdout",
          "text": [
            "Augmentation completed. 4.25% of train data is 1.0\n"
          ]
        }
      ]
    },
    {
      "cell_type": "markdown",
      "source": [
        "## Hyperparameter Tuning\n",
        "\n",
        "This section identifies the optimal model parameters (such as `hidden_size`, `layer_num`, and `dropout rate`) as well as the learning rate.\n",
        "\n",
        "Here, I have selected only the most important parameters for tuning, but you can expand the hyperparameter search space as much as you need.\n"
      ],
      "metadata": {
        "id": "H6PGIIxeS0ov"
      }
    },
    {
      "cell_type": "code",
      "source": [
        "# Define your objective function for Optuna\n",
        "\n",
        "def objective(trial):\n",
        "\n",
        "    hidden_size = trial.suggest_categorical('hidden_size', [16, 32, 64])\n",
        "    num_layers = trial.suggest_categorical('num_layers', [1, 2])\n",
        "    learning_rate = trial.suggest_float('lr', 1e-5, 1e-2)\n",
        "    dropout = trial.suggest_float('dropout', 0.0, 0.5)\n",
        "\n",
        "    model = NeuralNetClassifier(\n",
        "            GRUNet,\n",
        "            module__hidden_size=hidden_size,\n",
        "            module__num_layers=num_layers,\n",
        "            module__dropout=dropout,\n",
        "            # smaller epochs are enough to evaluate\n",
        "            max_epochs=5,\n",
        "            criterion=nn.BCEWithLogitsLoss,\n",
        "            optimizer=torch.optim.AdamW,\n",
        "            lr=learning_rate,\n",
        "            # no validation dataset is needed here because this validation dataset is supposed to be used internally to use early stopping\n",
        "            # but we don't need early stopping when tuning hyperparams, thus we set None to train_split\n",
        "            train_split = None,\n",
        "            batch_size=Config.batch_size,\n",
        "            iterator_train__shuffle=True,\n",
        "            verbose=1,\n",
        "        )\n",
        "\n",
        "    model = model.fit(X_train, y_train)\n",
        "    predicted = model.predict(X_val)\n",
        "    y_pred = predicted.flatten()\n",
        "    y_true = y_val.flatten()\n",
        "    score = f1_score(y_true, y_pred, pos_label=1)\n",
        "    return score\n",
        "\n",
        "# Perform optimization using Optuna, it maximizes f1-score\n",
        "study = optuna.create_study(direction=\"maximize\")\n",
        "\n",
        "# change n_trials depends on how much time you would spend for param tuning\n",
        "study.optimize(objective, n_trials=30)\n",
        "\n",
        "# Print the best parameters\n",
        "print(\"Best parameters: \", study.best_params)\n",
        "\n",
        "# store study.best_params to best_params\n",
        "best_params = study.best_params"
      ],
      "metadata": {
        "colab": {
          "base_uri": "https://localhost:8080/"
        },
        "id": "_dgt_78qU4DW",
        "outputId": "960ac726-1e76-431e-80f1-b1a7fc6a5932"
      },
      "execution_count": null,
      "outputs": [
        {
          "metadata": {
            "tags": null
          },
          "name": "stderr",
          "output_type": "stream",
          "text": [
            "[I 2024-12-08 07:44:36,230] A new study created in memory with name: no-name-a715700c-d2b5-4f3e-8c97-df7fd5974058\n"
          ]
        },
        {
          "metadata": {
            "tags": null
          },
          "name": "stdout",
          "output_type": "stream",
          "text": [
            "  epoch    train_loss      dur\n",
            "-------  ------------  -------\n",
            "      1        \u001b[36m0.0498\u001b[0m  59.9564\n",
            "      2        \u001b[36m0.0422\u001b[0m  60.6858\n",
            "      3        \u001b[36m0.0390\u001b[0m  60.8210\n",
            "      4        \u001b[36m0.0365\u001b[0m  60.9378\n",
            "      5        \u001b[36m0.0343\u001b[0m  60.5939\n"
          ]
        },
        {
          "metadata": {
            "tags": null
          },
          "name": "stderr",
          "output_type": "stream",
          "text": [
            "[I 2024-12-08 07:49:47,680] Trial 0 finished with value: 0.6216867469879518 and parameters: {'hidden_size': 64, 'num_layers': 1, 'lr': 0.0011999050670054394, 'dropout': 0.2757141144342244}. Best is trial 0 with value: 0.6216867469879518.\n"
          ]
        },
        {
          "metadata": {
            "tags": null
          },
          "name": "stdout",
          "output_type": "stream",
          "text": [
            "  epoch    train_loss      dur\n",
            "-------  ------------  -------\n",
            "      1        \u001b[36m0.0496\u001b[0m  80.6326\n",
            "      2        \u001b[36m0.0421\u001b[0m  79.5872\n",
            "      3        \u001b[36m0.0392\u001b[0m  81.0314\n",
            "      4        \u001b[36m0.0376\u001b[0m  81.1054\n",
            "      5        \u001b[36m0.0366\u001b[0m  81.8614\n"
          ]
        },
        {
          "metadata": {
            "tags": null
          },
          "name": "stderr",
          "output_type": "stream",
          "text": [
            "[I 2024-12-08 07:56:39,550] Trial 1 finished with value: 0.5476419634263715 and parameters: {'hidden_size': 16, 'num_layers': 2, 'lr': 0.0017303730930262576, 'dropout': 0.06735818802560317}. Best is trial 0 with value: 0.6216867469879518.\n"
          ]
        },
        {
          "metadata": {
            "tags": null
          },
          "name": "stdout",
          "output_type": "stream",
          "text": [
            "  epoch    train_loss      dur\n",
            "-------  ------------  -------\n",
            "      1        \u001b[36m0.0471\u001b[0m  61.7787\n",
            "      2        \u001b[36m0.0421\u001b[0m  59.8796\n",
            "      3        \u001b[36m0.0406\u001b[0m  59.5833\n",
            "      4        \u001b[36m0.0397\u001b[0m  60.3478\n",
            "      5        \u001b[36m0.0391\u001b[0m  60.2532\n"
          ]
        },
        {
          "metadata": {
            "tags": null
          },
          "name": "stderr",
          "output_type": "stream",
          "text": [
            "[I 2024-12-08 08:01:48,957] Trial 2 finished with value: 0.5609504132231405 and parameters: {'hidden_size': 64, 'num_layers': 1, 'lr': 0.005984608446014745, 'dropout': 0.20134561822611602}. Best is trial 0 with value: 0.6216867469879518.\n"
          ]
        },
        {
          "metadata": {
            "tags": null
          },
          "name": "stdout",
          "output_type": "stream",
          "text": [
            "  epoch    train_loss       dur\n",
            "-------  ------------  --------\n",
            "      1        \u001b[36m0.0451\u001b[0m  109.6547\n",
            "      2        \u001b[36m0.0369\u001b[0m  109.5036\n",
            "      3        \u001b[36m0.0327\u001b[0m  110.0319\n",
            "      4        \u001b[36m0.0302\u001b[0m  108.2052\n",
            "      5        \u001b[36m0.0287\u001b[0m  108.2882\n"
          ]
        },
        {
          "metadata": {
            "tags": null
          },
          "name": "stderr",
          "output_type": "stream",
          "text": [
            "[I 2024-12-08 08:11:06,238] Trial 3 finished with value: 0.5883076923076923 and parameters: {'hidden_size': 64, 'num_layers': 2, 'lr': 0.0030949668737970354, 'dropout': 0.024508016418586465}. Best is trial 0 with value: 0.6216867469879518.\n"
          ]
        },
        {
          "metadata": {
            "tags": null
          },
          "name": "stdout",
          "output_type": "stream",
          "text": [
            "  epoch    train_loss       dur\n",
            "-------  ------------  --------\n",
            "      1        \u001b[36m0.0497\u001b[0m  111.2680\n",
            "      2        \u001b[36m0.0425\u001b[0m  106.6172\n",
            "      3        \u001b[36m0.0394\u001b[0m  107.5608\n",
            "      4        \u001b[36m0.0368\u001b[0m  107.3237\n",
            "      5        \u001b[36m0.0348\u001b[0m  107.1037\n"
          ]
        },
        {
          "metadata": {
            "tags": null
          },
          "name": "stderr",
          "output_type": "stream",
          "text": [
            "[I 2024-12-08 08:20:17,447] Trial 4 finished with value: 0.5889724310776943 and parameters: {'hidden_size': 64, 'num_layers': 2, 'lr': 0.0007279805992466727, 'dropout': 0.30263116935625606}. Best is trial 0 with value: 0.6216867469879518.\n"
          ]
        },
        {
          "metadata": {
            "tags": null
          },
          "name": "stdout",
          "output_type": "stream",
          "text": [
            "  epoch    train_loss       dur\n",
            "-------  ------------  --------\n",
            "      1        \u001b[36m0.0471\u001b[0m  106.8227\n",
            "      2        \u001b[36m0.0420\u001b[0m  107.0379\n",
            "      3        \u001b[36m0.0403\u001b[0m  107.9476\n",
            "      4        \u001b[36m0.0397\u001b[0m  108.6841\n",
            "      5        \u001b[36m0.0390\u001b[0m  106.3481\n"
          ]
        },
        {
          "metadata": {
            "tags": null
          },
          "name": "stderr",
          "output_type": "stream",
          "text": [
            "[I 2024-12-08 08:29:26,087] Trial 5 finished with value: 0.6427688504326329 and parameters: {'hidden_size': 64, 'num_layers': 2, 'lr': 0.005197111385072939, 'dropout': 0.15619562235221834}. Best is trial 5 with value: 0.6427688504326329.\n"
          ]
        },
        {
          "output_type": "stream",
          "name": "stdout",
          "text": [
            "  epoch    train_loss      dur\n",
            "-------  ------------  -------\n",
            "      1        \u001b[36m0.0524\u001b[0m  89.6609\n",
            "      2        \u001b[36m0.0455\u001b[0m  89.1946\n",
            "      3        \u001b[36m0.0428\u001b[0m  87.7484\n",
            "      4        \u001b[36m0.0410\u001b[0m  88.4278\n",
            "      5        \u001b[36m0.0398\u001b[0m  89.1007\n"
          ]
        },
        {
          "output_type": "stream",
          "name": "stderr",
          "text": [
            "[I 2024-12-08 08:36:59,646] Trial 6 finished with value: 0.6634009797060881 and parameters: {'hidden_size': 32, 'num_layers': 2, 'lr': 0.00122968640382904, 'dropout': 0.4837916002775095}. Best is trial 6 with value: 0.6634009797060881.\n"
          ]
        },
        {
          "output_type": "stream",
          "name": "stdout",
          "text": [
            "  epoch    train_loss      dur\n",
            "-------  ------------  -------\n",
            "      1        \u001b[36m0.0508\u001b[0m  78.8472\n",
            "      2        \u001b[36m0.0449\u001b[0m  78.9288\n",
            "      3        \u001b[36m0.0430\u001b[0m  78.4972\n",
            "      4        \u001b[36m0.0424\u001b[0m  79.5399\n",
            "      5        \u001b[36m0.0416\u001b[0m  78.6417\n"
          ]
        },
        {
          "output_type": "stream",
          "name": "stderr",
          "text": [
            "[I 2024-12-08 08:43:42,006] Trial 7 finished with value: 0.6467218332272437 and parameters: {'hidden_size': 16, 'num_layers': 2, 'lr': 0.004928097363333086, 'dropout': 0.33539968324678426}. Best is trial 6 with value: 0.6634009797060881.\n"
          ]
        },
        {
          "output_type": "stream",
          "name": "stdout",
          "text": [
            "  epoch    train_loss      dur\n",
            "-------  ------------  -------\n",
            "      1        \u001b[36m0.0480\u001b[0m  89.5623\n",
            "      2        \u001b[36m0.0430\u001b[0m  88.6367\n",
            "      3        \u001b[36m0.0414\u001b[0m  89.6723\n",
            "      4        \u001b[36m0.0406\u001b[0m  89.5485\n",
            "      5        \u001b[36m0.0395\u001b[0m  89.1974\n"
          ]
        },
        {
          "output_type": "stream",
          "name": "stderr",
          "text": [
            "[I 2024-12-08 08:51:18,134] Trial 8 finished with value: 0.48693379790940766 and parameters: {'hidden_size': 32, 'num_layers': 2, 'lr': 0.005622967606549825, 'dropout': 0.2765285982133938}. Best is trial 6 with value: 0.6634009797060881.\n"
          ]
        },
        {
          "output_type": "stream",
          "name": "stdout",
          "text": [
            "  epoch    train_loss       dur\n",
            "-------  ------------  --------\n",
            "      1        \u001b[36m0.0478\u001b[0m  107.6968\n",
            "      2        \u001b[36m0.0410\u001b[0m  108.0193\n",
            "      3        \u001b[36m0.0375\u001b[0m  107.3632\n",
            "      4        \u001b[36m0.0349\u001b[0m  108.6968\n",
            "      5        \u001b[36m0.0325\u001b[0m  107.0053\n"
          ]
        },
        {
          "output_type": "stream",
          "name": "stderr",
          "text": [
            "[I 2024-12-08 09:00:28,366] Trial 9 finished with value: 0.5875845113706207 and parameters: {'hidden_size': 64, 'num_layers': 2, 'lr': 0.0016787273910626752, 'dropout': 0.33663995027246796}. Best is trial 6 with value: 0.6634009797060881.\n"
          ]
        },
        {
          "output_type": "stream",
          "name": "stdout",
          "text": [
            "  epoch    train_loss      dur\n",
            "-------  ------------  -------\n",
            "      1        \u001b[36m0.0502\u001b[0m  51.6022\n",
            "      2        \u001b[36m0.0472\u001b[0m  50.9676\n",
            "      3        \u001b[36m0.0465\u001b[0m  51.9076\n",
            "      4        \u001b[36m0.0460\u001b[0m  52.0959\n",
            "      5        \u001b[36m0.0452\u001b[0m  51.6337\n"
          ]
        },
        {
          "output_type": "stream",
          "name": "stderr",
          "text": [
            "[I 2024-12-08 09:04:52,960] Trial 10 finished with value: 0.6792452830188679 and parameters: {'hidden_size': 32, 'num_layers': 1, 'lr': 0.008781997864999797, 'dropout': 0.46746853351295814}. Best is trial 10 with value: 0.6792452830188679.\n"
          ]
        },
        {
          "output_type": "stream",
          "name": "stdout",
          "text": [
            "  epoch    train_loss      dur\n",
            "-------  ------------  -------\n",
            "      1        \u001b[36m0.0512\u001b[0m  51.6663\n",
            "      2        \u001b[36m0.0504\u001b[0m  51.4736\n",
            "      3        \u001b[36m0.0488\u001b[0m  51.0945\n",
            "      4        0.0491  51.0633\n",
            "      5        0.0502  51.3090\n"
          ]
        },
        {
          "output_type": "stream",
          "name": "stderr",
          "text": [
            "[I 2024-12-08 09:09:16,069] Trial 11 finished with value: 0.6488131466828971 and parameters: {'hidden_size': 32, 'num_layers': 1, 'lr': 0.009940820325373297, 'dropout': 0.49883715775985715}. Best is trial 10 with value: 0.6792452830188679.\n"
          ]
        },
        {
          "output_type": "stream",
          "name": "stdout",
          "text": [
            "  epoch    train_loss      dur\n",
            "-------  ------------  -------\n",
            "      1        \u001b[36m0.0508\u001b[0m  51.5805\n",
            "      2        \u001b[36m0.0497\u001b[0m  51.6292\n",
            "      3        \u001b[36m0.0489\u001b[0m  51.0526\n",
            "      4        0.0490  51.9851\n",
            "      5        \u001b[36m0.0480\u001b[0m  51.2630\n"
          ]
        },
        {
          "output_type": "stream",
          "name": "stderr",
          "text": [
            "[I 2024-12-08 09:13:40,065] Trial 12 finished with value: 0.6349765258215962 and parameters: {'hidden_size': 32, 'num_layers': 1, 'lr': 0.00990805317253231, 'dropout': 0.4931351175138842}. Best is trial 10 with value: 0.6792452830188679.\n"
          ]
        },
        {
          "output_type": "stream",
          "name": "stdout",
          "text": [
            "  epoch    train_loss      dur\n",
            "-------  ------------  -------\n",
            "      1        \u001b[36m0.0494\u001b[0m  51.1459\n",
            "      2        \u001b[36m0.0458\u001b[0m  51.8937\n",
            "      3        \u001b[36m0.0456\u001b[0m  50.8223\n",
            "      4        \u001b[36m0.0447\u001b[0m  50.8008\n",
            "      5        \u001b[36m0.0439\u001b[0m  50.9513\n"
          ]
        },
        {
          "output_type": "stream",
          "name": "stderr",
          "text": [
            "[I 2024-12-08 09:18:02,379] Trial 13 finished with value: 0.6237942122186495 and parameters: {'hidden_size': 32, 'num_layers': 1, 'lr': 0.008185910407453612, 'dropout': 0.4118916821817309}. Best is trial 10 with value: 0.6792452830188679.\n"
          ]
        },
        {
          "output_type": "stream",
          "name": "stdout",
          "text": [
            "  epoch    train_loss      dur\n",
            "-------  ------------  -------\n",
            "      1        \u001b[36m0.0510\u001b[0m  51.6380\n",
            "      2        \u001b[36m0.0459\u001b[0m  50.7181\n",
            "      3        \u001b[36m0.0447\u001b[0m  50.3394\n",
            "      4        \u001b[36m0.0439\u001b[0m  50.3806\n",
            "      5        \u001b[36m0.0428\u001b[0m  49.5433\n"
          ]
        },
        {
          "output_type": "stream",
          "name": "stderr",
          "text": [
            "[I 2024-12-08 09:22:21,080] Trial 14 finished with value: 0.689041095890411 and parameters: {'hidden_size': 32, 'num_layers': 1, 'lr': 0.007462825116974809, 'dropout': 0.4180932596837986}. Best is trial 14 with value: 0.689041095890411.\n"
          ]
        },
        {
          "output_type": "stream",
          "name": "stdout",
          "text": [
            "  epoch    train_loss      dur\n",
            "-------  ------------  -------\n",
            "      1        \u001b[36m0.0494\u001b[0m  49.8590\n",
            "      2        \u001b[36m0.0453\u001b[0m  49.6228\n",
            "      3        \u001b[36m0.0443\u001b[0m  50.0775\n",
            "      4        \u001b[36m0.0436\u001b[0m  50.4886\n",
            "      5        \u001b[36m0.0432\u001b[0m  53.3599\n"
          ]
        },
        {
          "output_type": "stream",
          "name": "stderr",
          "text": [
            "[I 2024-12-08 09:26:41,367] Trial 15 finished with value: 0.5993303571428571 and parameters: {'hidden_size': 32, 'num_layers': 1, 'lr': 0.007591604308373971, 'dropout': 0.4140820399294558}. Best is trial 14 with value: 0.689041095890411.\n"
          ]
        },
        {
          "output_type": "stream",
          "name": "stdout",
          "text": [
            "  epoch    train_loss      dur\n",
            "-------  ------------  -------\n",
            "      1        \u001b[36m0.0498\u001b[0m  50.5414\n",
            "      2        \u001b[36m0.0459\u001b[0m  50.9456\n",
            "      3        \u001b[36m0.0451\u001b[0m  50.4554\n",
            "      4        \u001b[36m0.0441\u001b[0m  50.0809\n",
            "      5        \u001b[36m0.0437\u001b[0m  50.2643\n"
          ]
        },
        {
          "output_type": "stream",
          "name": "stderr",
          "text": [
            "[I 2024-12-08 09:30:59,832] Trial 16 finished with value: 0.6102292768959435 and parameters: {'hidden_size': 32, 'num_layers': 1, 'lr': 0.008077278559506408, 'dropout': 0.3987081279603179}. Best is trial 14 with value: 0.689041095890411.\n"
          ]
        },
        {
          "output_type": "stream",
          "name": "stdout",
          "text": [
            "  epoch    train_loss      dur\n",
            "-------  ------------  -------\n",
            "      1        \u001b[36m0.0496\u001b[0m  50.6296\n",
            "      2        \u001b[36m0.0456\u001b[0m  50.8971\n",
            "      3        \u001b[36m0.0446\u001b[0m  51.0584\n",
            "      4        \u001b[36m0.0442\u001b[0m  51.4646\n",
            "      5        \u001b[36m0.0433\u001b[0m  51.5719\n"
          ]
        },
        {
          "output_type": "stream",
          "name": "stderr",
          "text": [
            "[I 2024-12-08 09:35:21,903] Trial 17 finished with value: 0.6366995073891626 and parameters: {'hidden_size': 32, 'num_layers': 1, 'lr': 0.006988199091734183, 'dropout': 0.4234553459181469}. Best is trial 14 with value: 0.689041095890411.\n"
          ]
        },
        {
          "output_type": "stream",
          "name": "stdout",
          "text": [
            "  epoch    train_loss      dur\n",
            "-------  ------------  -------\n",
            "      1        \u001b[36m0.0515\u001b[0m  47.1687\n",
            "      2        \u001b[36m0.0469\u001b[0m  46.2959\n",
            "      3        \u001b[36m0.0460\u001b[0m  46.0025\n",
            "      4        \u001b[36m0.0457\u001b[0m  46.5657\n",
            "      5        \u001b[36m0.0452\u001b[0m  48.0394\n"
          ]
        },
        {
          "output_type": "stream",
          "name": "stderr",
          "text": [
            "[I 2024-12-08 09:39:21,666] Trial 18 finished with value: 0.6035502958579881 and parameters: {'hidden_size': 16, 'num_layers': 1, 'lr': 0.008955989456976423, 'dropout': 0.3705465366254303}. Best is trial 14 with value: 0.689041095890411.\n"
          ]
        },
        {
          "output_type": "stream",
          "name": "stdout",
          "text": [
            "  epoch    train_loss      dur\n",
            "-------  ------------  -------\n",
            "      1        \u001b[36m0.0481\u001b[0m  52.9595\n",
            "      2        \u001b[36m0.0437\u001b[0m  52.9436\n",
            "      3        \u001b[36m0.0420\u001b[0m  54.4755\n",
            "      4        \u001b[36m0.0411\u001b[0m  54.4545\n",
            "      5        \u001b[36m0.0406\u001b[0m  54.0126\n"
          ]
        },
        {
          "output_type": "stream",
          "name": "stderr",
          "text": [
            "[I 2024-12-08 09:43:57,224] Trial 19 finished with value: 0.5402184707050646 and parameters: {'hidden_size': 32, 'num_layers': 1, 'lr': 0.006918539085157655, 'dropout': 0.21115353526535963}. Best is trial 14 with value: 0.689041095890411.\n"
          ]
        },
        {
          "output_type": "stream",
          "name": "stdout",
          "text": [
            "  epoch    train_loss      dur\n",
            "-------  ------------  -------\n",
            "      1        \u001b[36m0.0500\u001b[0m  53.3200\n",
            "      2        \u001b[36m0.0441\u001b[0m  53.3993\n",
            "      3        \u001b[36m0.0423\u001b[0m  53.5923\n",
            "      4        \u001b[36m0.0414\u001b[0m  53.4042\n",
            "      5        \u001b[36m0.0400\u001b[0m  53.3553\n"
          ]
        },
        {
          "output_type": "stream",
          "name": "stderr",
          "text": [
            "[I 2024-12-08 09:48:30,943] Trial 20 finished with value: 0.5320921117099461 and parameters: {'hidden_size': 32, 'num_layers': 1, 'lr': 0.0040876357940202585, 'dropout': 0.4467509699678965}. Best is trial 14 with value: 0.689041095890411.\n"
          ]
        },
        {
          "output_type": "stream",
          "name": "stdout",
          "text": [
            "  epoch    train_loss      dur\n",
            "-------  ------------  -------\n",
            "      1        \u001b[36m0.0504\u001b[0m  93.5027\n",
            "      2        \u001b[36m0.0445\u001b[0m  91.2822\n",
            "      3        \u001b[36m0.0422\u001b[0m  91.6640\n",
            "      4        \u001b[36m0.0412\u001b[0m  91.8777\n",
            "      5        \u001b[36m0.0399\u001b[0m  91.1655\n"
          ]
        },
        {
          "output_type": "stream",
          "name": "stderr",
          "text": [
            "[I 2024-12-08 09:56:20,232] Trial 21 finished with value: 0.6372360844529751 and parameters: {'hidden_size': 32, 'num_layers': 2, 'lr': 0.003233543829292175, 'dropout': 0.4749187577030277}. Best is trial 14 with value: 0.689041095890411.\n"
          ]
        },
        {
          "output_type": "stream",
          "name": "stdout",
          "text": [
            "  epoch    train_loss      dur\n",
            "-------  ------------  -------\n",
            "      1        \u001b[36m0.2168\u001b[0m  53.3548\n",
            "      2        \u001b[36m0.0661\u001b[0m  53.3938\n",
            "      3        \u001b[36m0.0554\u001b[0m  53.3488\n",
            "      4        \u001b[36m0.0532\u001b[0m  53.7173\n",
            "      5        \u001b[36m0.0525\u001b[0m  52.8034\n"
          ]
        },
        {
          "output_type": "stream",
          "name": "stderr",
          "text": [
            "[I 2024-12-08 10:00:53,535] Trial 22 finished with value: 0.6086441681468324 and parameters: {'hidden_size': 32, 'num_layers': 1, 'lr': 1.7469286003780546e-05, 'dropout': 0.45507296269601794}. Best is trial 14 with value: 0.689041095890411.\n"
          ]
        },
        {
          "output_type": "stream",
          "name": "stdout",
          "text": [
            "  epoch    train_loss      dur\n",
            "-------  ------------  -------\n",
            "      1        \u001b[36m0.0506\u001b[0m  93.7155\n",
            "      2        \u001b[36m0.0482\u001b[0m  90.8854\n",
            "      3        0.0491  93.2912\n",
            "      4        0.0486  91.9494\n",
            "      5        0.0487  92.2458\n"
          ]
        },
        {
          "output_type": "stream",
          "name": "stderr",
          "text": [
            "[I 2024-12-08 10:08:44,914] Trial 23 finished with value: 0.6289017341040463 and parameters: {'hidden_size': 32, 'num_layers': 2, 'lr': 0.009124430608539787, 'dropout': 0.36798515952529254}. Best is trial 14 with value: 0.689041095890411.\n"
          ]
        },
        {
          "output_type": "stream",
          "name": "stdout",
          "text": [
            "  epoch    train_loss      dur\n",
            "-------  ------------  -------\n",
            "      1        \u001b[36m0.0500\u001b[0m  53.6704\n",
            "      2        \u001b[36m0.0448\u001b[0m  53.3099\n",
            "      3        \u001b[36m0.0432\u001b[0m  53.4138\n",
            "      4        \u001b[36m0.0426\u001b[0m  53.1194\n",
            "      5        \u001b[36m0.0421\u001b[0m  53.3428\n"
          ]
        },
        {
          "output_type": "stream",
          "name": "stderr",
          "text": [
            "[I 2024-12-08 10:13:18,527] Trial 24 finished with value: 0.5746630727762804 and parameters: {'hidden_size': 32, 'num_layers': 1, 'lr': 0.006620109807540942, 'dropout': 0.4543214166228036}. Best is trial 14 with value: 0.689041095890411.\n"
          ]
        },
        {
          "output_type": "stream",
          "name": "stdout",
          "text": [
            "  epoch    train_loss      dur\n",
            "-------  ------------  -------\n",
            "      1        \u001b[36m0.0507\u001b[0m  48.0721\n",
            "      2        \u001b[36m0.0471\u001b[0m  47.9914\n",
            "      3        \u001b[36m0.0465\u001b[0m  48.1530\n",
            "      4        \u001b[36m0.0461\u001b[0m  48.5462\n",
            "      5        \u001b[36m0.0456\u001b[0m  48.7034\n"
          ]
        },
        {
          "output_type": "stream",
          "name": "stderr",
          "text": [
            "[I 2024-12-08 10:17:25,892] Trial 25 finished with value: 0.5484351713859911 and parameters: {'hidden_size': 16, 'num_layers': 1, 'lr': 0.008617912138090567, 'dropout': 0.37137433562624916}. Best is trial 14 with value: 0.689041095890411.\n"
          ]
        },
        {
          "output_type": "stream",
          "name": "stdout",
          "text": [
            "  epoch    train_loss      dur\n",
            "-------  ------------  -------\n",
            "      1        \u001b[36m0.0494\u001b[0m  92.8844\n",
            "      2        \u001b[36m0.0447\u001b[0m  92.0565\n",
            "      3        \u001b[36m0.0423\u001b[0m  92.3456\n",
            "      4        \u001b[36m0.0408\u001b[0m  92.6830\n",
            "      5        \u001b[36m0.0402\u001b[0m  89.6612\n"
          ]
        },
        {
          "output_type": "stream",
          "name": "stderr",
          "text": [
            "[I 2024-12-08 10:25:14,617] Trial 26 finished with value: 0.5723868082727781 and parameters: {'hidden_size': 32, 'num_layers': 2, 'lr': 0.003986996794576621, 'dropout': 0.45468815597462764}. Best is trial 14 with value: 0.689041095890411.\n"
          ]
        },
        {
          "output_type": "stream",
          "name": "stdout",
          "text": [
            "  epoch    train_loss      dur\n",
            "-------  ------------  -------\n",
            "      1        \u001b[36m0.0506\u001b[0m  51.6294\n",
            "      2        \u001b[36m0.0467\u001b[0m  51.2478\n",
            "      3        \u001b[36m0.0456\u001b[0m  51.4563\n",
            "      4        \u001b[36m0.0441\u001b[0m  51.2152\n",
            "      5        \u001b[36m0.0435\u001b[0m  51.8164\n"
          ]
        },
        {
          "output_type": "stream",
          "name": "stderr",
          "text": [
            "[I 2024-12-08 10:29:38,279] Trial 27 finished with value: 0.6190741773563859 and parameters: {'hidden_size': 32, 'num_layers': 1, 'lr': 0.007452320224494222, 'dropout': 0.4953181701736284}. Best is trial 14 with value: 0.689041095890411.\n"
          ]
        },
        {
          "output_type": "stream",
          "name": "stdout",
          "text": [
            "  epoch    train_loss      dur\n",
            "-------  ------------  -------\n",
            "      1        \u001b[36m0.0467\u001b[0m  89.5670\n",
            "      2        \u001b[36m0.0394\u001b[0m  87.8240\n",
            "      3        \u001b[36m0.0365\u001b[0m  88.6769\n",
            "      4        \u001b[36m0.0339\u001b[0m  86.9646\n",
            "      5        \u001b[36m0.0320\u001b[0m  86.2390\n"
          ]
        },
        {
          "output_type": "stream",
          "name": "stderr",
          "text": [
            "[I 2024-12-08 10:37:07,011] Trial 28 finished with value: 0.5939947780678851 and parameters: {'hidden_size': 32, 'num_layers': 2, 'lr': 0.0029422516366393414, 'dropout': 0.11658270002589122}. Best is trial 14 with value: 0.689041095890411.\n"
          ]
        },
        {
          "output_type": "stream",
          "name": "stdout",
          "text": [
            "  epoch    train_loss      dur\n",
            "-------  ------------  -------\n",
            "      1        \u001b[36m0.0537\u001b[0m  45.4526\n",
            "      2        \u001b[36m0.0460\u001b[0m  44.9162\n",
            "      3        \u001b[36m0.0446\u001b[0m  45.7208\n",
            "      4        \u001b[36m0.0436\u001b[0m  46.0001\n",
            "      5        \u001b[36m0.0427\u001b[0m  45.6066\n"
          ]
        },
        {
          "output_type": "stream",
          "name": "stderr",
          "text": [
            "[I 2024-12-08 10:41:00,184] Trial 29 finished with value: 0.6105383734249714 and parameters: {'hidden_size': 16, 'num_layers': 1, 'lr': 0.002212115428327964, 'dropout': 0.31149971187307346}. Best is trial 14 with value: 0.689041095890411.\n"
          ]
        },
        {
          "output_type": "stream",
          "name": "stdout",
          "text": [
            "Best parameters:  {'hidden_size': 32, 'num_layers': 1, 'lr': 0.007462825116974809, 'dropout': 0.4180932596837986}\n"
          ]
        }
      ]
    },
    {
      "cell_type": "code",
      "source": [
        "best_params"
      ],
      "metadata": {
        "colab": {
          "base_uri": "https://localhost:8080/"
        },
        "id": "A97BgTiOLVob",
        "outputId": "f1d21def-1070-4515-ceb9-129a0bc2a3e5"
      },
      "execution_count": null,
      "outputs": [
        {
          "data": {
            "text/plain": [
              "{'hidden_size': 32,\n",
              " 'num_layers': 1,\n",
              " 'lr': 0.007462825116974809,\n",
              " 'dropout': 0.4180932596837986}"
            ]
          },
          "execution_count": 7,
          "metadata": {},
          "output_type": "execute_result"
        }
      ]
    },
    {
      "cell_type": "markdown",
      "source": [
        "## OOS validation\n",
        "\n",
        "After completing the hyperparameter tuning, we now know the optimal parameters to use, and these have been stored in the best_params dictionary."
      ],
      "metadata": {
        "id": "1j6qa_Y4UGxm"
      }
    },
    {
      "cell_type": "code",
      "source": [
        "best_model = NeuralNetClassifier(\n",
        "    GRUNet,\n",
        "    module__hidden_size=best_params['hidden_size'],\n",
        "    module__num_layers=best_params['num_layers'],\n",
        "    module__dropout=best_params['dropout'],\n",
        "    max_epochs=30,\n",
        "    criterion=nn.BCEWithLogitsLoss,\n",
        "    optimizer=torch.optim.AdamW,\n",
        "    lr=best_params['lr'],\n",
        "    batch_size=Config.batch_size,\n",
        "    # this is early stopping, it stops training iterations if validation loss does not improve for 5 epochs\n",
        "    callbacks=[EarlyStopping(monitor='valid_loss',\n",
        "                           patience=5,\n",
        "                           load_best=True)],\n",
        "    iterator_train__shuffle=True,\n",
        "    # use valid_ds as validation dataset to calculate validation loss which is used for early stopping.\n",
        "    train_split=predefined_split(valid_ds),\n",
        "    verbose=1,\n",
        ")\n",
        "\n",
        "# net add val dataset\n",
        "best_model.fit(X_train, y_train)"
      ],
      "metadata": {
        "colab": {
          "base_uri": "https://localhost:8080/"
        },
        "id": "CUc-AkhrTrsn",
        "outputId": "52785b3d-cc46-4389-ab92-155db03c6afe"
      },
      "execution_count": null,
      "outputs": [
        {
          "output_type": "stream",
          "name": "stdout",
          "text": [
            "  epoch    train_loss    valid_acc    valid_loss      dur\n",
            "-------  ------------  -----------  ------------  -------\n",
            "      1        \u001b[36m0.0495\u001b[0m       \u001b[32m0.9973\u001b[0m        \u001b[35m0.0116\u001b[0m  58.8334\n",
            "      2        \u001b[36m0.0455\u001b[0m       0.9970        \u001b[35m0.0101\u001b[0m  60.0703\n",
            "      3        \u001b[36m0.0445\u001b[0m       0.9935        0.0170  58.0195\n",
            "      4        \u001b[36m0.0434\u001b[0m       0.9959        0.0111  60.6419\n",
            "      5        \u001b[36m0.0430\u001b[0m       0.9970        \u001b[35m0.0098\u001b[0m  58.2511\n",
            "      6        \u001b[36m0.0426\u001b[0m       0.9967        0.0103  58.2111\n",
            "      7        \u001b[36m0.0423\u001b[0m       0.9967        0.0115  57.7560\n",
            "      8        \u001b[36m0.0423\u001b[0m       0.9969        0.0100  57.9812\n",
            "      9        \u001b[36m0.0421\u001b[0m       \u001b[32m0.9975\u001b[0m        \u001b[35m0.0096\u001b[0m  58.4369\n",
            "     10        \u001b[36m0.0415\u001b[0m       0.9969        0.0101  57.7782\n",
            "     11        0.0418       0.9963        \u001b[35m0.0095\u001b[0m  57.2982\n",
            "     12        0.0418       0.9952        0.0150  57.5152\n",
            "     13        \u001b[36m0.0415\u001b[0m       0.9971        0.0097  57.8104\n",
            "     14        0.0416       0.9975        \u001b[35m0.0094\u001b[0m  57.0045\n",
            "     15        0.0416       0.9973        0.0099  57.1321\n",
            "     16        0.0415       0.9967        0.0116  59.3838\n",
            "     17        0.0415       0.9965        0.0104  58.1381\n",
            "     18        \u001b[36m0.0413\u001b[0m       0.9965        0.0102  57.8793\n",
            "Stopping since valid_loss has not improved in the last 5 epochs.\n",
            "Restoring best model from epoch 14.\n"
          ]
        },
        {
          "output_type": "execute_result",
          "data": {
            "text/plain": [
              "<class 'skorch.classifier.NeuralNetClassifier'>[initialized](\n",
              "  module_=GRUNet(\n",
              "    (gru): GRU(3, 32, batch_first=True)\n",
              "    (dropout): Dropout(p=0.4180932596837986, inplace=False)\n",
              "    (fc): Linear(in_features=32, out_features=1, bias=True)\n",
              "  ),\n",
              ")"
            ]
          },
          "metadata": {},
          "execution_count": 8
        }
      ]
    },
    {
      "cell_type": "code",
      "source": [
        "predicted = best_model.predict(X_test)\n",
        "y_pred = predicted.flatten()\n",
        "y_true = y_test.flatten()\n",
        "print(classification_report(y_true, y_pred))"
      ],
      "metadata": {
        "colab": {
          "base_uri": "https://localhost:8080/"
        },
        "id": "R4CBV4HCKiyE",
        "outputId": "ff13929e-7429-4003-e697-c32f391c20ef"
      },
      "execution_count": null,
      "outputs": [
        {
          "output_type": "stream",
          "name": "stdout",
          "text": [
            "              precision    recall  f1-score   support\n",
            "\n",
            "         0.0       1.00      1.00      1.00    186207\n",
            "         1.0       0.76      0.83      0.79       167\n",
            "\n",
            "    accuracy                           1.00    186374\n",
            "   macro avg       0.88      0.92      0.90    186374\n",
            "weighted avg       1.00      1.00      1.00    186374\n",
            "\n"
          ]
        }
      ]
    }
  ],
  "metadata": {
    "accelerator": "GPU",
    "colab": {
      "gpuType": "T4",
      "machine_shape": "hm",
      "provenance": []
    },
    "kernelspec": {
      "display_name": "Python 3",
      "name": "python3"
    },
    "language_info": {
      "name": "python",
      "version": "3.12.3"
    }
  },
  "nbformat": 4,
  "nbformat_minor": 0
}